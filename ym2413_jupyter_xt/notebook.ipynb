{
 "cells": [
  {
   "cell_type": "markdown",
   "metadata": {},
   "source": [
    "## Setup"
   ]
  },
  {
   "cell_type": "code",
   "execution_count": 1,
   "metadata": {},
   "outputs": [],
   "source": [
    "import pathlib\n",
    "import pretty_midi\n",
    "import os\n",
    "import csv"
   ]
  },
  {
   "cell_type": "markdown",
   "metadata": {},
   "source": [
    "## Retrieve YM2413-MDB (v1.0.2) Dataset"
   ]
  },
  {
   "cell_type": "code",
   "execution_count": 2,
   "metadata": {},
   "outputs": [
    {
     "name": "stdout",
     "output_type": "stream",
     "text": [
      "Number of files: 669\n"
     ]
    }
   ],
   "source": [
    "# Directory containing MIDI files\n",
    "data_dir = pathlib.Path('../music_dataset/YM2413-MDB-v1.0.2/midi/adjust_tempo_remove_delayed_inst')\n",
    "\n",
    "# Get list of MIDI files\n",
    "filenames = list(data_dir.glob('*.mid*'))\n",
    "print('Number of files:', len(filenames))"
   ]
  },
  {
   "cell_type": "markdown",
   "metadata": {
    "tags": [
     "parameters"
    ]
   },
   "source": [
    "## Process MIDI Files"
   ]
  },
  {
   "cell_type": "code",
   "execution_count": 3,
   "metadata": {},
   "outputs": [
    {
     "name": "stdout",
     "output_type": "stream",
     "text": [
      "Inspection results saved to ../ym2413_jupyter_proj/inspection_results.csv\n"
     ]
    }
   ],
   "source": [
    "pretty_midi.pretty_midi.MAX_TICK = 1e16\n",
    "\n",
    "# Initialize list to store inspection results\n",
    "inspection_results = []\n",
    "\n",
    "for filepath in filenames:\n",
    "    # Convert WindowsPath object to string\n",
    "    filepath_str = str(filepath)\n",
    "    \n",
    "    # Process MIDI file\n",
    "    pm = pretty_midi.PrettyMIDI(filepath_str)\n",
    "    num_instruments = len(pm.instruments)\n",
    "    instrument_names = [pretty_midi.program_to_instrument_name(inst.program) for inst in pm.instruments]\n",
    "\n",
    "    # Store inspection results\n",
    "    inspection_results.append({\n",
    "        \"Filename\": os.path.basename(filepath_str),\n",
    "        \"Number of Instruments\": num_instruments,\n",
    "        \"Instrument Names\": instrument_names\n",
    "    })\n",
    "\n",
    "# Write inspection results to CSV file\n",
    "csv_filename = '../ym2413_jupyter_proj/inspection_results.csv'\n",
    "csv_columns = [\"Filename\", \"Number of Instruments\", \"Instrument Names\"]\n",
    "\n",
    "with open(csv_filename, \"w\", newline=\"\") as csvfile:\n",
    "    writer = csv.DictWriter(csvfile, fieldnames=csv_columns)\n",
    "    writer.writeheader()\n",
    "    for result in inspection_results:\n",
    "        writer.writerow(result)\n",
    "\n",
    "print(\"Inspection results saved to\", csv_filename)"
   ]
  },
  {
   "cell_type": "markdown",
   "metadata": {},
   "source": [
    "## Process Single MIDI File"
   ]
  },
  {
   "cell_type": "code",
   "execution_count": 4,
   "metadata": {},
   "outputs": [],
   "source": [
    "# sample_file = filenames[0]\n",
    "# print(sample_file)\n",
    "\n",
    "# # Convert WindowsPath object to string\n",
    "# sample_file_str = str(sample_file)\n",
    "\n",
    "# pm = pretty_midi.PrettyMIDI(sample_file_str)\n",
    "\n",
    "# print('Number of instruments:', len(pm.instruments))\n",
    "\n",
    "# # Extract instrument names without considering brackets\n",
    "# instrument_names = [pretty_midi.program_to_instrument_name(inst.program) for inst in pm.instruments]\n",
    "\n",
    "# # Print all instrument names\n",
    "# print('Instrument names:', instrument_names)"
   ]
  },
  {
   "cell_type": "markdown",
   "metadata": {},
   "source": [
    "## Convert MIDI to Nintendo Entertainment System (NES) Format"
   ]
  },
  {
   "cell_type": "code",
   "execution_count": 5,
   "metadata": {},
   "outputs": [],
   "source": [
    "import itertools\n",
    "import os\n",
    "import random"
   ]
  },
  {
   "cell_type": "code",
   "execution_count": 6,
   "metadata": {},
   "outputs": [],
   "source": [
    "# Quarter to Emotion Mapping\n",
    "quarter_to_emotion = {\n",
    "    'Q1': 'happy',\n",
    "    'Q2': 'angry',\n",
    "    'Q3': 'sad',\n",
    "    'Q4': 'relaxed'\n",
    "}"
   ]
  },
  {
   "cell_type": "code",
   "execution_count": 7,
   "metadata": {},
   "outputs": [],
   "source": [
    "nes_ins_name_to_min_pitch = {\n",
    "    'p1': 33,\n",
    "    'p2': 33,\n",
    "    'tr': 21\n",
    "}\n",
    "nes_ins_name_to_max_pitch = {\n",
    "    'p1': 108,\n",
    "    'p2': 108,\n",
    "    'tr': 108\n",
    "}"
   ]
  },
  {
   "cell_type": "code",
   "execution_count": 8,
   "metadata": {},
   "outputs": [],
   "source": [
    "def instrument_is_monophonic(ins):\n",
    "    # Ensure sorted\n",
    "    notes = ins.notes\n",
    "    last_note_start = -1\n",
    "    for n in notes:\n",
    "        assert n.start >= last_note_start\n",
    "        last_note_start = n.start\n",
    "\n",
    "    monophonic = True\n",
    "    for i in range(len(notes) - 1):\n",
    "        n0 = notes[i]\n",
    "        n1 = notes[i + 1]\n",
    "        if n0.end > n1.start:\n",
    "            monophonic = False\n",
    "            break\n",
    "    return monophonic"
   ]
  },
  {
   "cell_type": "code",
   "execution_count": 9,
   "metadata": {},
   "outputs": [],
   "source": [
    "def preprocess_midi(midi_fp):\n",
    "    filename = os.path.split(midi_fp)[1].split('.')[0]\n",
    "    quarter_label = filename.split('_')[0]  # Extract the quarter label from the filename\n",
    "    emotion_label = quarter_to_emotion.get(quarter_label, 'Unknown')  # Map the quarter label to an emotion\n",
    "    return emotion_label"
   ]
  },
  {
   "cell_type": "code",
   "execution_count": 10,
   "metadata": {},
   "outputs": [],
   "source": [
    "def emit_nesmdb_midi_examples(\n",
    "    midi_fp,\n",
    "    output_dir,\n",
    "    min_num_instruments=1,\n",
    "    filter_mid_len_below_seconds=5.,\n",
    "    filter_mid_len_above_seconds=600.,\n",
    "    filter_mid_bad_times=True,\n",
    "    filter_ins_max_below=21,\n",
    "    filter_ins_min_above=108,\n",
    "    filter_ins_duplicate=True,\n",
    "    output_include_drums=True,\n",
    "    output_max_num=16,\n",
    "    output_max_num_seconds=180.):\n",
    "    midi_name = os.path.split(midi_fp)[1].split('.')[0]\n",
    "\n",
    "    if min_num_instruments <= 0:\n",
    "        raise ValueError()\n",
    "\n",
    "    # Ignore unusually large MIDI files (only ~25 of these in the dataset)\n",
    "    if os.path.getsize(midi_fp) > (512 * 1024): #512K\n",
    "        return\n",
    "\n",
    "    try:\n",
    "        midi = pretty_midi.PrettyMIDI(midi_fp)\n",
    "    except:\n",
    "        return\n",
    "\n",
    "    # Filter MIDIs with extreme length\n",
    "    midi_len = midi.get_end_time()\n",
    "    if midi_len < filter_mid_len_below_seconds or midi_len > filter_mid_len_above_seconds:\n",
    "        return\n",
    "\n",
    "    # Filter out negative times and quantize to audio samples\n",
    "    for ins in midi.instruments:\n",
    "        for n in ins.notes:\n",
    "            if filter_mid_bad_times:\n",
    "                if n.start < 0 or n.end < 0 or n.end < n.start:\n",
    "                    return\n",
    "            n.start = round(n.start * 44100.) / 44100.\n",
    "            n.end = round(n.end * 44100.) / 44100.\n",
    "\n",
    "    instruments = midi.instruments\n",
    "\n",
    "    # Filter out drum instruments\n",
    "    drums = [i for i in instruments if i.is_drum]\n",
    "    instruments = [i for i in instruments if not i.is_drum]\n",
    "\n",
    "    # Filter out instruments with bizarre ranges\n",
    "    instruments_normal_range = []\n",
    "    for ins in instruments:\n",
    "        pitches = [n.pitch for n in ins.notes]\n",
    "        min_pitch = min(pitches)\n",
    "        max_pitch = max(pitches)\n",
    "        if max_pitch >= filter_ins_max_below and min_pitch <= filter_ins_min_above:\n",
    "            instruments_normal_range.append(ins)\n",
    "    instruments = instruments_normal_range\n",
    "    if len(instruments) < min_num_instruments:\n",
    "        return\n",
    "\n",
    "    # Sort notes for polyphonic filtering and proper saving\n",
    "    for ins in instruments:\n",
    "        ins.notes = sorted(ins.notes, key=lambda x: x.start)\n",
    "    if output_include_drums:\n",
    "        for ins in drums:\n",
    "            ins.notes = sorted(ins.notes, key=lambda x: x.start)\n",
    "\n",
    "    # Filter out polyphonic instruments\n",
    "    instruments = [i for i in instruments if instrument_is_monophonic(i)]\n",
    "    if len(instruments) < min_num_instruments:\n",
    "        return\n",
    "\n",
    "    # Filter out duplicate instruments\n",
    "    if filter_ins_duplicate:\n",
    "        uniques = set()\n",
    "        instruments_unique = []\n",
    "        for ins in instruments:\n",
    "            pitches = ','.join(['{}:{:.1f}'.format(str(n.pitch), n.start) for n in ins.notes])\n",
    "            if pitches not in uniques:\n",
    "                instruments_unique.append(ins)\n",
    "                uniques.add(pitches)\n",
    "        instruments = instruments_unique\n",
    "        if len(instruments) < min_num_instruments:\n",
    "            return\n",
    "\n",
    "    # Create assignments of MIDI instruments to NES instruments\n",
    "    num_instruments = len(instruments)\n",
    "    if num_instruments == 1:\n",
    "        instrument_perms = [(0, -1, -1), (-1, 0, -1), (-1, -1, 0)]\n",
    "    elif num_instruments == 2:\n",
    "        instrument_perms = [(-1, 0, 1), (-1, 1, 0), (0, -1, 1), (0, 1, -1), (1, -1, 0), (1, 0, -1)]\n",
    "    elif num_instruments > 32:\n",
    "        instrument_perms = list(itertools.permutations(random.sample(range(num_instruments), 32), 3))\n",
    "    else:\n",
    "        instrument_perms = list(itertools.permutations(range(num_instruments), 3))\n",
    "\n",
    "    if len(instrument_perms) > output_max_num:\n",
    "        instrument_perms = random.sample(instrument_perms, output_max_num)\n",
    "\n",
    "    num_drums = len(drums) if output_include_drums else 0\n",
    "    instrument_perms_plus_drums = []\n",
    "    for perm in instrument_perms:\n",
    "        selection = -1 if num_drums == 0 else random.choice(range(num_drums))\n",
    "        instrument_perms_plus_drums.append(perm + (selection,))\n",
    "    instrument_perms = instrument_perms_plus_drums\n",
    "\n",
    "    # Emit midi files\n",
    "    for i, perm in enumerate(instrument_perms):\n",
    "        # Create MIDI instruments\n",
    "        p1_prog = pretty_midi.instrument_name_to_program('Lead 1 (square)')\n",
    "        p2_prog = pretty_midi.instrument_name_to_program('Lead 2 (sawtooth)')\n",
    "        tr_prog = pretty_midi.instrument_name_to_program('Synth Bass 1')\n",
    "        no_prog = pretty_midi.instrument_name_to_program('Breath Noise')\n",
    "        p1 = pretty_midi.Instrument(program=p1_prog, name='p1', is_drum=False)\n",
    "        p2 = pretty_midi.Instrument(program=p2_prog, name='p2', is_drum=False)\n",
    "        tr = pretty_midi.Instrument(program=tr_prog, name='tr', is_drum=False)\n",
    "        no = pretty_midi.Instrument(program=no_prog, name='no', is_drum=True)\n",
    "\n",
    "        # Filter out invalid notes\n",
    "        perm_mid_ins_notes = []\n",
    "        for mid_ins_id, nes_ins_name in zip(perm, ['p1', 'p2', 'tr', 'no']):\n",
    "            if mid_ins_id < 0:\n",
    "                perm_mid_ins_notes.append(None)\n",
    "            else:\n",
    "                if nes_ins_name == 'no':\n",
    "                    mid_ins = drums[mid_ins_id]\n",
    "                    mid_ins_notes_valid = mid_ins.notes\n",
    "                else:\n",
    "                    mid_ins = instruments[mid_ins_id]\n",
    "                    mid_ins_notes_valid = [n for n in mid_ins.notes if n.pitch >= nes_ins_name_to_min_pitch[nes_ins_name] and n.pitch <= nes_ins_name_to_max_pitch[nes_ins_name]]\n",
    "                perm_mid_ins_notes.append(mid_ins_notes_valid)\n",
    "        assert len(perm_mid_ins_notes) == 4\n",
    "\n",
    "        # Calculate length of this ensemble\n",
    "        start = None\n",
    "        end = None\n",
    "        for notes in perm_mid_ins_notes:\n",
    "            if notes is None or len(notes) == 0:\n",
    "                continue\n",
    "            ins_start = min([n.start for n in notes])\n",
    "            ins_end = max([n.end for n in notes])\n",
    "            if start is None or ins_start < start:\n",
    "                start = ins_start\n",
    "            if end is None or ins_end > end:\n",
    "                end = ins_end\n",
    "        if start is None or end is None:\n",
    "            continue\n",
    "\n",
    "        # Clip if needed\n",
    "        if (end - start) > output_max_num_seconds:\n",
    "            end = start + output_max_num_seconds\n",
    "\n",
    "        # Create notes\n",
    "        for mid_ins_notes, nes_ins_name, nes_ins in zip(perm_mid_ins_notes, ['p1', 'p2', 'tr', 'no'], [p1, p2, tr, no]):\n",
    "            if mid_ins_notes is None:\n",
    "                continue\n",
    "\n",
    "            if nes_ins_name == 'no':\n",
    "                random_noise_mapping = [random.randint(1, 16) for _ in range(128)]\n",
    "\n",
    "            last_nend = -1\n",
    "            for ni, n in enumerate(mid_ins_notes):\n",
    "                nvelocity = n.velocity\n",
    "                npitch = n.pitch\n",
    "                nstart = n.start\n",
    "                nend = n.end\n",
    "\n",
    "                # Drums are not necessarily monophonic so we need to filter\n",
    "                if nes_ins_name == 'no' and nstart < last_nend:\n",
    "                    continue\n",
    "                last_nend = nend\n",
    "\n",
    "                assert nstart >= start\n",
    "                if nend > end:\n",
    "                    continue\n",
    "                assert nend <= end\n",
    "\n",
    "                nvelocity = 1 if nes_ins_name == 'tr' else int(round(1. + (14. * nvelocity / 127.)))\n",
    "                assert nvelocity > 0\n",
    "                if nes_ins_name == 'no':\n",
    "                    npitch = random_noise_mapping[npitch]\n",
    "                nstart = nstart - start\n",
    "                nend = nend - start\n",
    "\n",
    "                nes_ins.notes.append(pretty_midi.Note(nvelocity, npitch, nstart, nend))\n",
    "\n",
    "        # Add instruments to MIDI file\n",
    "        midi = pretty_midi.PrettyMIDI(initial_tempo=120, resolution=22050)\n",
    "        midi.instruments.extend([p1, p2, tr, no])\n",
    "\n",
    "        # Create indicator for end of song\n",
    "        eos = pretty_midi.TimeSignature(1, 1, end - start)\n",
    "        midi.time_signature_changes.append(eos)\n",
    "\n",
    "        # Save MIDI file\n",
    "        out_fp = '{}_{}.mid'.format(midi_name, str(i).zfill(3))\n",
    "        out_fp = os.path.join(output_dir, out_fp)\n",
    "        midi.write(out_fp)"
   ]
  },
  {
   "cell_type": "code",
   "execution_count": 11,
   "metadata": {},
   "outputs": [],
   "source": [
    "import shutil\n",
    "import os\n",
    "\n",
    "if __name__ == '__main__':\n",
    "    pretty_midi.pretty_midi.MAX_TICK = 1e16\n",
    "\n",
    "    data_dir = \"../music_dataset/YM2413-MDB-v1.0.2/midi/adjust_tempo_remove_delayed_inst\"\n",
    "    out_dir = './output'\n",
    "\n",
    "    # Create the output directory if it doesn't exist\n",
    "    if os.path.isdir(out_dir):\n",
    "        shutil.rmtree(out_dir)\n",
    "    os.makedirs(out_dir)\n",
    "\n",
    "    # Iterate through the directory and its subdirectories\n",
    "    for root, _, files in os.walk(data_dir):\n",
    "        for file in files:\n",
    "            # Check if the file is a MIDI file\n",
    "            if file.endswith(\".mid\"):\n",
    "                # Construct the full path of the MIDI file\n",
    "                midi_fp = os.path.join(root, file)\n",
    "                \n",
    "                # Generate MIDI examples and save them in the output directory\n",
    "                emit_nesmdb_midi_examples(midi_fp, out_dir)"
   ]
  },
  {
   "cell_type": "code",
   "execution_count": 12,
   "metadata": {},
   "outputs": [
    {
     "name": "stdout",
     "output_type": "stream",
     "text": [
      "Number of files (after permutations): 7612\n"
     ]
    }
   ],
   "source": [
    "data_dir = pathlib.Path('./output')\n",
    "filenames = list(data_dir.glob('*.mid*'))\n",
    "print('Number of files (after permutations):', len(filenames))"
   ]
  },
  {
   "cell_type": "markdown",
   "metadata": {},
   "source": [
    "## Extract Notes"
   ]
  },
  {
   "cell_type": "code",
   "execution_count": 13,
   "metadata": {},
   "outputs": [],
   "source": [
    "# def midi_to_notes(midi_file: str) -> pd.DataFrame:\n",
    "#     pm = pretty_midi.PrettyMIDI(midi_file)\n",
    "#     notes_data = {'instrument': [], 'pitch': [], 'start': [], 'end': [], 'duration': []}\n",
    "\n",
    "#     for instrument in pm.instruments:\n",
    "#         instrument_name = pretty_midi.program_to_instrument_name(instrument.program)\n",
    "#         for note in instrument.notes:\n",
    "#             notes_data['instrument'].append(instrument_name)\n",
    "#             notes_data['pitch'].append(note.pitch)\n",
    "#             notes_data['start'].append(note.start)\n",
    "#             notes_data['end'].append(note.end)\n",
    "#             notes_data['duration'].append(note.end - note.start)\n",
    "\n",
    "#     return pd.DataFrame(notes_data)"
   ]
  },
  {
   "cell_type": "code",
   "execution_count": 14,
   "metadata": {},
   "outputs": [],
   "source": [
    "# midi_file_path = \"ym2413_jupyter_proj/out/01 - Game de check! Koutsuu Anzen (FM) - Instructions_000.mid\"\n",
    "# notes_df = midi_to_notes(midi_file_path)\n",
    "# print(notes_df.head(10))"
   ]
  }
 ],
 "metadata": {
  "kernelspec": {
   "display_name": "pyspark",
   "language": "python",
   "name": "python3"
  },
  "language_info": {
   "codemirror_mode": {
    "name": "ipython",
    "version": 3
   },
   "file_extension": ".py",
   "mimetype": "text/x-python",
   "name": "python",
   "nbconvert_exporter": "python",
   "pygments_lexer": "ipython3",
   "version": "3.10.14"
  }
 },
 "nbformat": 4,
 "nbformat_minor": 2
}
